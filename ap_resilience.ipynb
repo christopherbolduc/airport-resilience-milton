{
 "cells": [
  {
   "cell_type": "code",
   "execution_count": null,
   "metadata": {},
   "outputs": [],
   "source": [
    "import pandas as pd"
   ]
  },
  {
   "cell_type": "code",
   "execution_count": null,
   "metadata": {},
   "outputs": [],
   "source": [
    "# Load airport-level daily data (weather + flights)\n",
    "mart_ap_d_df = pd.read_csv('./csv_files/mart_airport_daily_milton.csv')\n",
    "mart_ap_d_df.info()  # inspect schema and data types"
   ]
  },
  {
   "cell_type": "code",
   "execution_count": null,
   "metadata": {},
   "outputs": [],
   "source": [
    "# Convert date column to datetime type for time-based operations\n",
    "mart_ap_d_df['date'] = pd.to_datetime(mart_ap_d_df['date'])\n",
    "mart_ap_d_df.info()  # confirm dtype change"
   ]
  },
  {
   "cell_type": "code",
   "execution_count": null,
   "metadata": {},
   "outputs": [],
   "source": [
    "mart_ap_d_df.head()  # preview data"
   ]
  },
  {
   "cell_type": "code",
   "execution_count": null,
   "metadata": {},
   "outputs": [],
   "source": [
    "# Calculate the average number of flights per day per airport during the pre-storm baseline window (Oct 1–7)"
   ]
  },
  {
   "cell_type": "code",
   "execution_count": null,
   "metadata": {},
   "outputs": [],
   "source": [
    "# Define the pre-storm baseline window\n",
    "baseline_start = \"2024-10-01\"\n",
    "baseline_end = \"2024-10-07\"\n",
    "\n",
    "# Filter data to baseline period and calculate average daily flights per airport\n",
    "baseline_df = (\n",
    "    mart_ap_d_df[mart_ap_d_df['date'].between(baseline_start, baseline_end)]\n",
    "    .groupby('airport_code')['num_flights']\n",
    "    .mean()\n",
    "    .reset_index()\n",
    ")\n",
    "\n",
    "# Round and rename the column for clarity\n",
    "baseline_df['num_flights'] = baseline_df['num_flights'].round()\n",
    "baseline_df = baseline_df.rename(columns={'num_flights': 'baseline_flights'})"
   ]
  },
  {
   "cell_type": "code",
   "execution_count": null,
   "metadata": {},
   "outputs": [],
   "source": [
    "baseline_df"
   ]
  },
  {
   "cell_type": "code",
   "execution_count": null,
   "metadata": {},
   "outputs": [],
   "source": [
    "# Merge baseline values into full dataset to enable comparisons by date\n",
    "df = mart_ap_d_df.merge(baseline_df, on='airport_code')"
   ]
  },
  {
   "cell_type": "code",
   "execution_count": null,
   "metadata": {},
   "outputs": [],
   "source": [
    "# Identify recovery milestones for each airport: \n",
    "# Reopened: when operations resumed at 50% of baseline and <50% cancellations\n",
    "# Fully Recovered: when operations reached 90% of baseline and <5% cancellations"
   ]
  },
  {
   "cell_type": "code",
   "execution_count": null,
   "metadata": {},
   "outputs": [],
   "source": [
    "# Stage 1: Reopened — airport resumes meaningful operations\n",
    "reopened_rows = df[\n",
    "    (df['date'] >= \"2024-10-10\") &\n",
    "    (df['pct_cancelled'] < 0.5) &  # fewer than half of flights canceled\n",
    "    (df['num_flights'] >= 0.5 * df['baseline_flights'])  # at least 50% of baseline volume\n",
    "]\n",
    "\n",
    "first_reopened = (\n",
    "    reopened_rows\n",
    "    .groupby('airport_code')['date']\n",
    "    .min()\n",
    "    .reset_index()\n",
    "    .rename(columns={'date': 'reopen_date'})\n",
    ")\n",
    "\n",
    "# Stage 2: Fully Recovered — near-normal operations resume\n",
    "recovered_rows = df[\n",
    "    (df['date'] >= \"2024-10-10\") &\n",
    "    (df['pct_cancelled'] < 0.05) &  # nearly all scheduled flights operating\n",
    "    (df['num_flights'] >= 0.9 * df['baseline_flights'])  # 90% of baseline volume\n",
    "]\n",
    "\n",
    "first_recovered = (\n",
    "    recovered_rows\n",
    "    .groupby('airport_code')['date']\n",
    "    .min()\n",
    "    .reset_index()\n",
    "    .rename(columns={'date': 'recovery_date'})\n",
    ")"
   ]
  },
  {
   "cell_type": "code",
   "execution_count": null,
   "metadata": {},
   "outputs": [],
   "source": [
    "first_reopened"
   ]
  },
  {
   "cell_type": "code",
   "execution_count": null,
   "metadata": {},
   "outputs": [],
   "source": [
    "first_recovered"
   ]
  },
  {
   "cell_type": "code",
   "execution_count": null,
   "metadata": {},
   "outputs": [],
   "source": [
    "# Merge reopening and recovery dates into a single summary\n",
    "status_df = pd.merge(first_reopened, first_recovered, on='airport_code', how='left')\n",
    "status_df"
   ]
  },
  {
   "cell_type": "code",
   "execution_count": null,
   "metadata": {},
   "outputs": [],
   "source": [
    "# Now I will build resilience metrics table: \n",
    "# 1. Days to recovery\n",
    "# 2. Total % of flights cancelled for Oct 2024\n",
    "# 3. Highest hourly avg windspeed"
   ]
  },
  {
   "cell_type": "code",
   "execution_count": null,
   "metadata": {},
   "outputs": [],
   "source": [
    "# First I will calculate the days to reopen & days to recovery"
   ]
  },
  {
   "cell_type": "code",
   "execution_count": null,
   "metadata": {},
   "outputs": [],
   "source": [
    "# Define the storm impact start date\n",
    "storm_date = pd.to_datetime(\"2024-10-09\")\n",
    "\n",
    "# Calculate both metrics\n",
    "status_df['days_to_reopen'] = (status_df['reopen_date'] - storm_date).dt.days\n",
    "status_df['days_to_recovery'] = (status_df['recovery_date'] - storm_date).dt.days\n",
    "\n",
    "# Preview to confirm\n",
    "status_df"
   ]
  },
  {
   "cell_type": "code",
   "execution_count": null,
   "metadata": {},
   "outputs": [],
   "source": [
    "# Second I will calculate the % of flights cancelled in Oct 2024"
   ]
  },
  {
   "cell_type": "code",
   "execution_count": null,
   "metadata": {},
   "outputs": [],
   "source": [
    "monthly_stats = ( \n",
    "    df.groupby('airport_code')\n",
    "    .agg({\n",
    "        'num_flights': 'sum',\n",
    "        'num_cancelled': 'sum'\n",
    "    })\n",
    "    .reset_index()\n",
    ")\n",
    "\n",
    "# Calculate percent of flights cancelled\n",
    "monthly_stats['pct_cancelled_oct'] = (\n",
    "    monthly_stats['num_cancelled'] / monthly_stats['num_flights']\n",
    ").round(3)\n",
    "\n",
    "monthly_stats"
   ]
  },
  {
   "cell_type": "code",
   "execution_count": null,
   "metadata": {},
   "outputs": [],
   "source": [
    "# Finally I will calculate the peak wind speeds by airport"
   ]
  },
  {
   "cell_type": "code",
   "execution_count": null,
   "metadata": {},
   "outputs": [],
   "source": [
    "# Peak wind speed = highest hourly average wind speed recorded per airport\n",
    "peak_wind = (\n",
    "    df.groupby('airport_code')['peak_wind_speed_kmh']\n",
    "    .max()\n",
    "    .reset_index()\n",
    ")\n",
    "\n",
    "peak_wind"
   ]
  },
  {
   "cell_type": "code",
   "execution_count": null,
   "metadata": {},
   "outputs": [],
   "source": [
    "# Combine recovery data, cancellation rate, and peak wind speed into a single dataset\n",
    "resilience_df = (\n",
    "    status_df\n",
    "    .merge(monthly_stats[['airport_code', 'pct_cancelled_oct']], on='airport_code')\n",
    "    .merge(peak_wind, on='airport_code')\n",
    ")"
   ]
  },
  {
   "cell_type": "code",
   "execution_count": null,
   "metadata": {},
   "outputs": [],
   "source": [
    "resilience_df"
   ]
  },
  {
   "cell_type": "code",
   "execution_count": null,
   "metadata": {},
   "outputs": [],
   "source": [
    "# Resilience Score Calculation\n",
    "\n",
    "# The goal of this formula is to evaluate how effectively each airport recovered from Hurricane Milton.\n",
    "# After exploring multiple options, I needed a score that fairly balanced:\n",
    "#   - The intensity of the storm each airport experienced\n",
    "#   - The speed and efficiency of operational recovery\n",
    "\n",
    "# Original attempts used raw wind speed in the denominator,\n",
    "# but this unintentionally favored airports with extreme wind conditions—even if they recovered poorly.\n",
    "\n",
    "# To correct this, I applied the square root to peak wind speed.\n",
    "# This still rewards resilience in stronger storms, but dampens the disproportionate benefit from extreme values.\n",
    "\n",
    "# The numerator combines:\n",
    "#   - days_to_recovery: how many days the airport took to return to baseline\n",
    "#   - pct_cancelled_oct: the overall disruption in October, scaled by a factor of 10 to match recovery days on a similar scale"
   ]
  },
  {
   "cell_type": "code",
   "execution_count": null,
   "metadata": {},
   "outputs": [],
   "source": [
    "# Final formula: lower scores indicate better resilience (fast recovery and minimal cancellations)\n",
    "resilience_df['resilience_score'] = (\n",
    "    (resilience_df['days_to_recovery'] + \n",
    "     (resilience_df['pct_cancelled_oct'] * 10)) /\n",
    "    (resilience_df['peak_wind_speed_kmh'] ** 0.5 / 10)\n",
    ").round(2)\n",
    "# Rank by resilience (lower score is more resilient)\n",
    "resilience_df = resilience_df.sort_values('resilience_score', ascending=True)"
   ]
  },
  {
   "cell_type": "code",
   "execution_count": null,
   "metadata": {},
   "outputs": [],
   "source": [
    "resilience_df"
   ]
  },
  {
   "cell_type": "code",
   "execution_count": null,
   "metadata": {},
   "outputs": [],
   "source": [
    "import matplotlib.pyplot as plt\n",
    "import seaborn as sns\n",
    "import matplotlib.dates as mdates"
   ]
  },
  {
   "cell_type": "code",
   "execution_count": null,
   "metadata": {},
   "outputs": [],
   "source": [
    "# Quick test plot to visualize % of flight cancellations around hurricane landfall\n",
    "test_df = df[\n",
    "    (df['date'] >= '2024-10-05') &\n",
    "    (df['date'] <= '2024-10-17')\n",
    "].copy()\n",
    "\n",
    "# Pivot to wide format for line plotting\n",
    "pivot_df = test_df.pivot(index='date', columns='airport_code', values='pct_cancelled')\n",
    "\n",
    "pivot_df.plot(\n",
    "    figsize=(12, 6),\n",
    "    marker='o',\n",
    "    title=\"% of Flights Cancelled by Airport (Oct 5–17)\",\n",
    "    ylabel=\"% Cancelled\",\n",
    "    xlabel=\"Date\",\n",
    "    grid=True\n",
    ")\n",
    "plt.tight_layout()"
   ]
  },
  {
   "cell_type": "code",
   "execution_count": null,
   "metadata": {},
   "outputs": [],
   "source": [
    "# Create upgraded, more detailed version in seaborn\n",
    "\n",
    "plot_df = df[                                       # Filter for Oct 5–17\n",
    "    (df['date'] >= '2024-10-05') &                  \n",
    "    (df['date'] <= '2024-10-17')\n",
    "].copy()\n",
    "\n",
    "# Highlight SRQ vs. other airports to show relative cancellation behavior\n",
    "plot_df['highlight'] = plot_df['airport_code'].apply(\n",
    "    lambda x: 'SRQ' if x == 'SRQ' else 'DAB, TPA, MCO, PIE'\n",
    ")\n",
    "\n",
    "sns.set_theme(style=\"whitegrid\")                    # Set Seaborn theme\n",
    "fig, ax = plt.subplots(figsize=(12, 6))             # Create figure and axis\n",
    "ax.set_facecolor('#f0f0f0')                         # Light grey background inside plot\n",
    "\n",
    "sns.lineplot(                                       # Line plot showing cancellation rate trends\n",
    "    data=plot_df,\n",
    "    x=\"date\",\n",
    "    y=\"pct_cancelled\",\n",
    "    hue=\"highlight\",\n",
    "    palette={\n",
    "        \"SRQ\": \"#FF6F00\",                           # Highlight color for SRQ\n",
    "        \"DAB, TPA, MCO, PIE\": \"#4C72B0\"\n",
    "    },\n",
    "    linewidth=2,\n",
    "    marker=\"o\",\n",
    "    ax=ax\n",
    ")\n",
    "\n",
    "# Add hurricane landfall marker\n",
    "landfall = pd.to_datetime(\"2024-10-09 20:30\")\n",
    "ax.axvline(landfall, color='darkred', linestyle='--', linewidth=1.5)\n",
    "ax.text(landfall, 0.1, 'Landfall      \\nOct 09, 8:30pm', ha='right', va='bottom', color='darkred', weight='bold')\n",
    "\n",
    "# Titles and labels\n",
    "ax.set_title(\"Flight Cancellations Surrounding Hurricane Milton\", fontsize=14)\n",
    "ax.set_xlabel(\"Date (2024)\")\n",
    "ax.set_ylabel(\"Cancellation Rate (%)\")\n",
    "\n",
    "# Y-axis formatting (percent style)\n",
    "ax.yaxis.set_major_formatter(plt.FuncFormatter(lambda y, _: f'{y * 100:.0f}%'))\n",
    "ax.set_ylim(0, 1.05)\n",
    "\n",
    "# X-axis date formatting\n",
    "ax.xaxis.set_major_formatter(mdates.DateFormatter('%b %d'))\n",
    "\n",
    "# Legend and layout\n",
    "ax.legend(title=\"Airport Group\", loc='upper left')\n",
    "plt.tight_layout()\n",
    "plt.show()"
   ]
  },
  {
   "cell_type": "code",
   "execution_count": null,
   "metadata": {},
   "outputs": [],
   "source": [
    "# Daily flight cancellations from Oct 5–17 across five Florida airports.\n",
    "# Hurricane Milton made landfall on Oct 9 (dashed line).\n",
    "# While some airports recovered within days, SRQ remained heavily impacted long after the storm passed."
   ]
  },
  {
   "cell_type": "code",
   "execution_count": null,
   "metadata": {},
   "outputs": [],
   "source": [
    "# Bar chart: Resilience score by airport after Hurricane Milton\n",
    "\n",
    "# Sort airports by resilience score (lower = better)\n",
    "res_plot = resilience_df.sort_values('resilience_score', ascending=True).copy()\n",
    "\n",
    "# Set up colors: highlight SRQ\n",
    "bar_colors = ['#FF6F00' if code == 'SRQ' else '#4C72B0' for code in res_plot['airport_code']]\n",
    "\n",
    "fig, ax = plt.subplots(figsize=(10, 6))             # Create figure and axes\n",
    "ax.set_facecolor('#f0f0f0')                         # Light grey background inside chart\n",
    "\n",
    "bars = ax.barh(                                     # Draw horizontal bars\n",
    "    y=res_plot['airport_code'],\n",
    "    width=res_plot['resilience_score'],\n",
    "    color=bar_colors\n",
    ")\n",
    "\n",
    "# Annotate scores next to each bar\n",
    "for i, (score, airport) in enumerate(zip(res_plot['resilience_score'], res_plot['airport_code'])):\n",
    "    ax.text(score + 0.1, i, f\"{score:.1f}\", va='center', weight='bold')\n",
    "\n",
    "# Title and axis labels\n",
    "ax.set_title('Airport Resilience Scores After Hurricane Milton (October 2024)', fontsize=14)\n",
    "ax.set_xlabel('Resilience Score (Lower = More Resilient)', fontsize=12)\n",
    "ax.set_ylabel('Airport Code', fontsize=12)\n",
    "ax.invert_yaxis()                                   # Airports with best scores appear at the top\n",
    "\n",
    "plt.tight_layout()\n",
    "plt.show()"
   ]
  },
  {
   "cell_type": "code",
   "execution_count": null,
   "metadata": {},
   "outputs": [],
   "source": [
    "# Each bar represents a resilience score for airports affected by Hurricane Milton (October 2024).\n",
    "# The score combines time to recovery and flight cancellation rate, normalized by peak wind speed (maximum hourly average wind speed).\n",
    "# SRQ, which faced the strongest impact and infrastructure damage, remained closed significantly longer than its peers — resulting in the highest (worst) resilience score."
   ]
  },
  {
   "cell_type": "code",
   "execution_count": null,
   "metadata": {},
   "outputs": [],
   "source": [
    "# Prepare a polished summary table for export & README inclusion\n",
    "recovery_table = resilience_df.copy()\n",
    "\n",
    "# Rename columns for readability\n",
    "recovery_table = recovery_table.rename(columns={\n",
    "    'airport_code': 'Airport',\n",
    "    'reopen_date': 'Date Reopened',\n",
    "    'recovery_date': 'Date Recovered',\n",
    "    'days_to_reopen': 'Days to Reopen',\n",
    "    'days_to_recovery': 'Days to Recovery',\n",
    "    'pct_cancelled_oct': '% Flights Cancelled (Oct)',\n",
    "    'peak_wind_speed_kmh': 'Peak Wind (km/h)',\n",
    "    'resilience_score': 'Resilience Score'\n",
    "})\n",
    "\n",
    "# Format numeric columns\n",
    "recovery_table['% Flights Cancelled (Oct)'] = (recovery_table['% Flights Cancelled (Oct)'] * 100).round(1)\n",
    "recovery_table['Resilience Score'] = recovery_table['Resilience Score'].round(2)\n",
    "recovery_table['Peak Wind (km/h)'] = recovery_table['Peak Wind (km/h)'].round(1)\n",
    "\n",
    "# Sort for presentation\n",
    "recovery_table = recovery_table.sort_values('Resilience Score').reset_index(drop=True)\n",
    "\n",
    "recovery_table"
   ]
  },
  {
   "cell_type": "code",
   "execution_count": null,
   "metadata": {},
   "outputs": [],
   "source": [
    "# Export the cleaned-up dataframe as .csv\n",
    "# recovery_table.to_csv(\"csv_files/airport_resilience_summary.csv\", index=False)"
   ]
  }
 ],
 "metadata": {
  "kernelspec": {
   "display_name": "base",
   "language": "python",
   "name": "python3"
  },
  "language_info": {
   "codemirror_mode": {
    "name": "ipython",
    "version": 3
   },
   "file_extension": ".py",
   "mimetype": "text/x-python",
   "name": "python",
   "nbconvert_exporter": "python",
   "pygments_lexer": "ipython3",
   "version": "3.9.21"
  }
 },
 "nbformat": 4,
 "nbformat_minor": 2
}
