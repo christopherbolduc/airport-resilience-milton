{
 "cells": [
  {
   "cell_type": "code",
   "execution_count": 4,
   "metadata": {},
   "outputs": [],
   "source": [
    "# pip install psycopg2-binary sqlalchemy\n",
    "#!pip install python-dotenv"
   ]
  },
  {
   "cell_type": "code",
   "execution_count": 1,
   "metadata": {},
   "outputs": [],
   "source": [
    "import pandas as pd\n",
    "from sqlalchemy import create_engine\n",
    "from dotenv import dotenv_values\n",
    "\n",
    "# Load .env values\n",
    "config = dotenv_values()\n",
    "\n",
    "# Extract values from config\n",
    "username = config[\"POSTGRES_USER\"]\n",
    "password = config[\"POSTGRES_PASS\"]\n",
    "host = config[\"POSTGRES_HOST\"]\n",
    "port = int(config[\"POSTGRES_PORT\"])\n",
    "database = config[\"POSTGRES_DB\"]\n",
    "\n",
    "# Create engine\n",
    "engine = create_engine(\n",
    "    f\"postgresql+psycopg2://{username}:{password}@{host}:{port}/{database}\")\n"
   ]
  },
  {
   "cell_type": "code",
   "execution_count": 2,
   "metadata": {},
   "outputs": [],
   "source": [
    "import pandas.io.sql as sqlio\n",
    "from sqlalchemy import text"
   ]
  },
  {
   "cell_type": "code",
   "execution_count": 3,
   "metadata": {},
   "outputs": [],
   "source": [
    "query = text('SELECT * FROM \"s_christopherbolduc\".\"mart_airport_daily_milton\"')\n",
    "\n",
    "with engine.connect() as conn:\n",
    "    mart_ap_d_df = sqlio.read_sql_query(query, conn)"
   ]
  },
  {
   "cell_type": "code",
   "execution_count": null,
   "metadata": {},
   "outputs": [],
   "source": [
    "# save to csv and remember once you convert the csv to a df, check dtypes and convert where necessary (ex. dates to datetime64)\n",
    "\n",
    "mart_ap_d_df.to_csv(\"mart_airport_daily_milton.csv\", index=False)"
   ]
  }
 ],
 "metadata": {
  "kernelspec": {
   "display_name": "base",
   "language": "python",
   "name": "python3"
  },
  "language_info": {
   "codemirror_mode": {
    "name": "ipython",
    "version": 3
   },
   "file_extension": ".py",
   "mimetype": "text/x-python",
   "name": "python",
   "nbconvert_exporter": "python",
   "pygments_lexer": "ipython3",
   "version": "3.9.21"
  }
 },
 "nbformat": 4,
 "nbformat_minor": 2
}
